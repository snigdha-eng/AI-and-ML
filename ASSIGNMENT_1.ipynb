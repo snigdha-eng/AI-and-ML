{
  "nbformat": 4,
  "nbformat_minor": 0,
  "metadata": {
    "colab": {
      "name": "ASSIGNMENT 1",
      "provenance": [],
      "authorship_tag": "ABX9TyPQRmMpfZiUeduQa8b9QN3E",
      "include_colab_link": true
    },
    "kernelspec": {
      "name": "python3",
      "display_name": "Python 3"
    }
  },
  "cells": [
    {
      "cell_type": "markdown",
      "metadata": {
        "id": "view-in-github",
        "colab_type": "text"
      },
      "source": [
        "<a href=\"https://colab.research.google.com/github/snigdha-eng/AI-and-ML/blob/master/ASSIGNMENT_1.ipynb\" target=\"_parent\"><img src=\"https://colab.research.google.com/assets/colab-badge.svg\" alt=\"Open In Colab\"/></a>"
      ]
    },
    {
      "cell_type": "code",
      "metadata": {
        "id": "tuoDfTEIUbzI",
        "colab_type": "code",
        "colab": {
          "base_uri": "https://localhost:8080/",
          "height": 101
        },
        "outputId": "0339bb96-5de4-42c8-8bc5-d68cfab598f4"
      },
      "source": [
        "#1st program\n",
        "for i in range(0,5):\n",
        "    for j in range (0,i+1):\n",
        "        print(\"*\",end=\" \")\n",
        "        \n",
        "    print(\"\\r\")\n",
        "    "
      ],
      "execution_count": 1,
      "outputs": [
        {
          "output_type": "stream",
          "text": [
            "* \r\n",
            "* * \r\n",
            "* * * \r\n",
            "* * * * \r\n",
            "* * * * * \r\n"
          ],
          "name": "stdout"
        }
      ]
    },
    {
      "cell_type": "code",
      "metadata": {
        "id": "aDso06UiU-k2",
        "colab_type": "code",
        "colab": {
          "base_uri": "https://localhost:8080/",
          "height": 202
        },
        "outputId": "95dc72b0-55d7-43d4-b044-5da489141db0"
      },
      "source": [
        "#2nd program\n",
        "k=int(input(\"enter the value of k\"))\n",
        "for i in range(1,11):\n",
        "    mul=k*i;\n",
        "    print(k,end=\" \")\n",
        "    print(\"*\",end=\" \")\n",
        "    print(i,end=\" \")\n",
        "    print(\"=\",end=\" \")\n",
        "    print(k*i)"
      ],
      "execution_count": 2,
      "outputs": [
        {
          "output_type": "stream",
          "text": [
            "enter the value of k4\n",
            "4 * 1 = 4\n",
            "4 * 2 = 8\n",
            "4 * 3 = 12\n",
            "4 * 4 = 16\n",
            "4 * 5 = 20\n",
            "4 * 6 = 24\n",
            "4 * 7 = 28\n",
            "4 * 8 = 32\n",
            "4 * 9 = 36\n",
            "4 * 10 = 40\n"
          ],
          "name": "stdout"
        }
      ]
    },
    {
      "cell_type": "code",
      "metadata": {
        "id": "-8YHvYFpVOMx",
        "colab_type": "code",
        "colab": {
          "base_uri": "https://localhost:8080/",
          "height": 101
        },
        "outputId": "3048998d-7bae-40d6-d0d2-e731faa44e22"
      },
      "source": [
        "#3rd program\n",
        "import cmath\n",
        "a=int(input(\"enter the value of a\" ))\n",
        "b=int(input(\"enter the value of b\" ))\n",
        "c=int(input(\"enter the value of c\" ))\n",
        "bs=b*b\n",
        "fac=4*a*c\n",
        "bsm=bs-fac\n",
        "ta=2*a\n",
        "s=cmath.sqrt(bsm)\n",
        "a1=((-b)+s)/ta\n",
        "a2=((-b)-s)/ta\n",
        "print(a1)\n",
        "print(a2)"
      ],
      "execution_count": 4,
      "outputs": [
        {
          "output_type": "stream",
          "text": [
            "enter the value of a1\n",
            "enter the value of b4\n",
            "enter the value of c16\n",
            "(-2+3.4641016151377544j)\n",
            "(-2-3.4641016151377544j)\n"
          ],
          "name": "stdout"
        }
      ]
    },
    {
      "cell_type": "code",
      "metadata": {
        "id": "a7lHMhVOVW7B",
        "colab_type": "code",
        "colab": {
          "base_uri": "https://localhost:8080/",
          "height": 50
        },
        "outputId": "84c84460-2062-468c-ad22-175cad1a6969"
      },
      "source": [
        "#4th program\n",
        "n=int(input(\"enter n\"))\n",
        "print(\"The decimal value of\",n,\":\",bin(n),\"in binary\")\n"
      ],
      "execution_count": 6,
      "outputs": [
        {
          "output_type": "stream",
          "text": [
            "enter n75\n",
            "The decimal value of 75 : 0b1001011 in binary\n"
          ],
          "name": "stdout"
        }
      ]
    },
    {
      "cell_type": "code",
      "metadata": {
        "id": "9WTgChY-WBbN",
        "colab_type": "code",
        "colab": {
          "base_uri": "https://localhost:8080/",
          "height": 101
        },
        "outputId": "a5b4ec9f-ae2b-4767-f269-0c4915d5fd49"
      },
      "source": [
        "#5th program\n",
        "n=int(input(\"enter n\"))\n",
        "a=0;\n",
        "b=1;\n",
        "print(a)\n",
        "print(b)\n",
        "for i in range(0,n-2):\n",
        "    c=a+b;\n",
        "    a=b;\n",
        "    b=c;\n",
        "    print(c)"
      ],
      "execution_count": 8,
      "outputs": [
        {
          "output_type": "stream",
          "text": [
            "enter n4\n",
            "0\n",
            "1\n",
            "1\n",
            "2\n"
          ],
          "name": "stdout"
        }
      ]
    },
    {
      "cell_type": "code",
      "metadata": {
        "id": "yNTlxo_8WhId",
        "colab_type": "code",
        "colab": {}
      },
      "source": [
        ""
      ],
      "execution_count": 0,
      "outputs": []
    }
  ]
}